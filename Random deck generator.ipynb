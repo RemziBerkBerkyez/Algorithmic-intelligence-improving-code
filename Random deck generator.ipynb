{
 "cells": [
  {
   "cell_type": "code",
   "execution_count": null,
   "id": "757cbf68",
   "metadata": {},
   "outputs": [],
   "source": [
    "import random\n",
    "\n",
    "ercan = []\n",
    "remzi = []\n",
    "alp = []\n",
    "sena = []\n",
    "deste = []\n",
    "\n",
    "for i in range(1,14):\n",
    "    maça = (\"maça-\" + str(i))\n",
    "    sinek = (\"sinek-\" + str(i))\n",
    "    karo = (\"karo-\" + str(i))\n",
    "    kupa = (\"kupa-\" + str(i))\n",
    "    \n",
    "    deste.append(maça)\n",
    "    deste.append(sinek)\n",
    "    deste.append(karo)\n",
    "    deste.append(kupa)\n",
    "\n",
    "for j in range(1,5):\n",
    "    if(j == 1):\n",
    "        oyuncu = ercan\n",
    "        \n",
    "    elif(j == 2):\n",
    "        oyuncu = remzi\n",
    "        \n",
    "    elif(j == 3):\n",
    "        oyuncu = sena\n",
    "        \n",
    "    else:\n",
    "        oyuncu = alp\n",
    "        \n",
    "    for k in range(1,9):\n",
    "        seçim = random.choice(deste)\n",
    "        oyuncu.append(seçim)\n",
    "        deste.pop(deste.index(seçim))\n",
    "print(\"Ercan: {} Remzi: {} Sena: {} Alp: {} Deste: {}\".format(ercan,remzi,sena,alp,deste))"
   ]
  }
 ],
 "metadata": {
  "kernelspec": {
   "display_name": "Python 3",
   "language": "python",
   "name": "python3"
  },
  "language_info": {
   "codemirror_mode": {
    "name": "ipython",
    "version": 3
   },
   "file_extension": ".py",
   "mimetype": "text/x-python",
   "name": "python",
   "nbconvert_exporter": "python",
   "pygments_lexer": "ipython3",
   "version": "3.8.8"
  }
 },
 "nbformat": 4,
 "nbformat_minor": 5
}
